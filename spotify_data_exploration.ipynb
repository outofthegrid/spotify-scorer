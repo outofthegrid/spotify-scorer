{
 "cells": [
  {
   "cell_type": "markdown",
   "metadata": {},
   "source": [
    "# Spotify listening data analysis"
   ]
  },
  {
   "cell_type": "code",
   "execution_count": 5,
   "metadata": {},
   "outputs": [],
   "source": [
    "import pandas\n",
    "import json\n",
    "import matplotlib.pyplot as plt\n",
    "import requests\n",
    "import numpy as np\n",
    "import spotipy.util as util\n",
    "import time\n",
    "from sklearn.compose import ColumnTransformer\n",
    "from sklearn.preprocessing import Normalizer\n",
    "from sklearn.pipeline import Pipeline\n",
    "from sklearn.impute import SimpleImputer\n",
    "from sklearn.preprocessing import StandardScaler\n",
    "from sklearn.model_selection import train_test_split"
   ]
  },
  {
   "cell_type": "code",
   "execution_count": 28,
   "metadata": {},
   "outputs": [
    {
     "data": {
      "text/plain": "'devadmin'"
     },
     "execution_count": 28,
     "metadata": {},
     "output_type": "execute_result"
    }
   ],
   "source": [
    "from dotenv import load_dotenv\n",
    "load_dotenv('/Users/ds-ingrid/vs_code.env')"
   ]
  },
  {
   "cell_type": "markdown",
   "metadata": {},
   "source": [
    "## Exploratory Data Analysis\n",
    "\n",
    "### Retrieving listening history\n",
    "Navigate to: Spotify website > Profile > Account > Privacy settings > Download your data. \n",
    "\n",
    "The data is then made available via a zip file containing a series of JSONs.\n",
    "\n",
    "### Data overview\n",
    "In my case, the folder contains 7 streaming history files. For each record, the song, artist, listening duration, and end time are specified. Each JSON file contains up to 10,000 records (songs and podcast episodes alike).\n",
    "\n",
    "For example: "
   ]
  },
  {
   "cell_type": "code",
   "execution_count": 335,
   "metadata": {},
   "outputs": [
    {
     "data": {
      "text/plain": "{'endTime': '2020-09-06 12:01',\n 'artistName': 'Justice',\n 'trackName': 'D.A.N.C.E. - MSTRKRFT Remix',\n 'msPlayed': 1642}"
     },
     "execution_count": 335,
     "metadata": {},
     "output_type": "execute_result"
    }
   ],
   "source": [
    "# Sample record\n",
    "spotifyPath = '/Users/ds-ingrid/Downloads/MyData/'\n",
    "listeningHist0 = open(spotifyPath + 'StreamingHistory0.json')\n",
    "listeningHist0 = json.load(listeningHist0)\n",
    "listeningHist0[0]"
   ]
  },
  {
   "cell_type": "code",
   "execution_count": 336,
   "metadata": {},
   "outputs": [
    {
     "data": {
      "text/plain": "65243"
     },
     "execution_count": 336,
     "metadata": {},
     "output_type": "execute_result"
    }
   ],
   "source": [
    "# Loading data from all 7 JSON files\n",
    "listeningHist = []\n",
    "listeningHistPaths = [f'/Users/ds-ingrid/Downloads/MyData/StreamingHistory{i}.json' for i in range(0, 7)]\n",
    "\n",
    "for file in listeningHistPaths:\n",
    "    tempHist = json.load(open(file))\n",
    "    listeningHist = listeningHist + tempHist\n",
    "\n",
    "# Convert to dataframe\n",
    "listeningHist = pandas.DataFrame(listeningHist)\n",
    "\n",
    "len(listeningHist)"
   ]
  },
  {
   "cell_type": "markdown",
   "metadata": {},
   "source": [
    "There are a total of 65K records, from September 2020 to early November 2021. Not quite sure why this isn't my full listening history since 2016. \n",
    "\n",
    "Ideally, this will later be augmented with additional info on each song/artist (e.g. genre, in Liked Songs, in playlist), but for the time being I'll work only with the 4 fields provided by default. \n",
    "\n",
    "Some summary stats: \n",
    "* 5,061 unique songs\n",
    "* 1,630 unique artists\n",
    "* 1,417 hours of total listening time"
   ]
  },
  {
   "cell_type": "code",
   "execution_count": 337,
   "metadata": {},
   "outputs": [
    {
     "data": {
      "text/plain": "1417.0906655555555"
     },
     "execution_count": 337,
     "metadata": {},
     "output_type": "execute_result"
    }
   ],
   "source": [
    "# Unique songs\n",
    "len(set(listeningHist['artistName']))\n",
    "\n",
    "# Unique artists\n",
    "len(set(listeningHist['artistName']))\n",
    "\n",
    "# Total listening time\n",
    "sum(listeningHist['msPlayed'])/(1000*60*60)\n"
   ]
  },
  {
   "cell_type": "markdown",
   "metadata": {},
   "source": [
    "### EDA visualizations\n",
    "\n",
    "* Songs by listening time\n",
    "* Artists by listening time\n",
    "* Artists by number of songs listened to"
   ]
  },
  {
   "cell_type": "code",
   "execution_count": 133,
   "metadata": {},
   "outputs": [
    {
     "data": {
      "text/plain": "Text(0.5, 1.0, 'Most listened songs')"
     },
     "execution_count": 133,
     "metadata": {},
     "output_type": "execute_result"
    },
    {
     "data": {
      "text/plain": "<Figure size 432x288 with 0 Axes>"
     },
     "metadata": {},
     "output_type": "display_data"
    },
    {
     "data": {
      "image/png": "[encoded data removed]",
      "text/plain": "<Figure size 432x288 with 1 Axes>"
     },
     "metadata": {
      "needs_background": "light"
     },
     "output_type": "display_data"
    }
   ],
   "source": [
    "# Songs by total listening time\n",
    "trackAgg = listeningHist.groupby(['trackName'])['msPlayed'].sum()\n",
    "trackAgg = pandas.DataFrame(trackAgg)\n",
    "trackAgg['msPlayed'] = trackAgg['msPlayed']/(1000*60*60)\n",
    "trackAggTop5 = trackAgg.sort_values(by='msPlayed',ascending=False)[0:5]\n",
    "\n",
    "plt.figure()\n",
    "trackAggTop5.plot(kind=\"bar\").set_title(\"Most listened songs\")"
   ]
  },
  {
   "cell_type": "code",
   "execution_count": 338,
   "metadata": {},
   "outputs": [
    {
     "data": {
      "text/plain": "Text(0.5, 1.0, 'Most listened artists')"
     },
     "execution_count": 338,
     "metadata": {},
     "output_type": "execute_result"
    },
    {
     "data": {
      "text/plain": "<Figure size 432x288 with 0 Axes>"
     },
     "metadata": {},
     "output_type": "display_data"
    },
    {
     "data": {
      "image/png": "[encoded data removed]",
      "text/plain": "<Figure size 432x288 with 1 Axes>"
     },
     "metadata": {
      "needs_background": "light"
     },
     "output_type": "display_data"
    }
   ],
   "source": [
    "# Artists by total listening time\n",
    "artistAgg = listeningHist.groupby(['artistName'])['msPlayed'].sum()\n",
    "artistAgg = pandas.DataFrame(artistAgg)\n",
    "artistAgg['msPlayed'] = artistAgg['msPlayed']/(1000*60*60)\n",
    "artistAggTop5 = artistAgg.sort_values(by='msPlayed',ascending=False)[0:5]\n",
    "\n",
    "plt.figure()\n",
    "artistAggTop5.plot(kind=\"bar\").set_title(\"Most listened artists\")"
   ]
  },
  {
   "cell_type": "code",
   "execution_count": 135,
   "metadata": {},
   "outputs": [
    {
     "data": {
      "text/plain": "<matplotlib.axes._subplots.AxesSubplot at 0x7f825c7959a0>"
     },
     "execution_count": 135,
     "metadata": {},
     "output_type": "execute_result"
    },
    {
     "data": {
      "text/plain": "<Figure size 432x288 with 0 Axes>"
     },
     "metadata": {},
     "output_type": "display_data"
    },
    {
     "data": {
      "image/png": "[encoded data removed]",
      "text/plain": "<Figure size 432x288 with 1 Axes>"
     },
     "metadata": {
      "needs_background": "light"
     },
     "output_type": "display_data"
    }
   ],
   "source": [
    "# Artists by number of songs listened to listening time (min 60 seconds of listening time)\n",
    "artistSongCombo = listeningHist[listeningHist['msPlayed']>=60000].reset_index(drop=True)\n",
    "artistSongCombo = artistSongCombo[['artistName','trackName']].drop_duplicates().reset_index(drop=True)\n",
    "artistSongCombo = artistSongCombo.groupby(['artistName'])['trackName'].count().reset_index(name=\"count\")\n",
    "artistSongCombo = artistSongCombo.sort_values(by='count',ascending=False)\n",
    "artistSongComboTop5 = artistSongCombo[0:5]#.reset_index(drop=True)\n",
    "\n",
    "plt.figure()\n",
    "artistSongComboTop5.plot.bar(x='artistName')"
   ]
  },
  {
   "cell_type": "markdown",
   "metadata": {},
   "source": [
    "## Spotify API data \n",
    "Unfortunately, Spotify doesn't provide much additional information about the songs listened to, especially in terms of features (e.g. genre, BPM, key, speechiness). All of these however are available via the Spofity API. More specifically the [audio features](https://developer.spotify.com/documentation/web-api/reference/#/operations/get-audio-features) and [audio analysis](https://developer.spotify.com/documentation/web-api/reference/#/operations/get-audio-analysis) endpoints. \n",
    "\n",
    "For example, the features for the song Science by Allie X are as follows: "
   ]
  },
  {
   "cell_type": "code",
   "execution_count": 1,
   "metadata": {},
   "outputs": [
    {
     "ename": "NameError",
     "evalue": "name 'util' is not defined",
     "output_type": "error",
     "traceback": [
      "\u001b[0;31m---------------------------------------------------------------------------\u001b[0m",
      "\u001b[0;31mNameError\u001b[0m                                 Traceback (most recent call last)",
      "\u001b[0;32m<ipython-input-1-0365eb7a6184>\u001b[0m in \u001b[0;36m<module>\u001b[0;34m\u001b[0m\n\u001b[1;32m      6\u001b[0m \u001b[0mscope\u001b[0m \u001b[0;34m=\u001b[0m \u001b[0;34m'user-read-recently-played'\u001b[0m\u001b[0;34m\u001b[0m\u001b[0;34m\u001b[0m\u001b[0m\n\u001b[1;32m      7\u001b[0m \u001b[0;34m\u001b[0m\u001b[0m\n\u001b[0;32m----> 8\u001b[0;31m token = util.prompt_for_user_token(username=username, \n\u001b[0m\u001b[1;32m      9\u001b[0m                                    \u001b[0mscope\u001b[0m\u001b[0;34m=\u001b[0m\u001b[0mscope\u001b[0m\u001b[0;34m,\u001b[0m\u001b[0;34m\u001b[0m\u001b[0;34m\u001b[0m\u001b[0m\n\u001b[1;32m     10\u001b[0m                                    \u001b[0mclient_id\u001b[0m\u001b[0;34m=\u001b[0m\u001b[0mclient_id\u001b[0m\u001b[0;34m,\u001b[0m\u001b[0;34m\u001b[0m\u001b[0;34m\u001b[0m\u001b[0m\n",
      "\u001b[0;31mNameError\u001b[0m: name 'util' is not defined"
     ]
    }
   ],
   "source": [
    "# Authenticate\n",
    "username = 'nope_12345'\n",
    "client_id = os.environ['SPOTIFY_CLIENT_ID']\n",
    "client_secret = os.environ['SPOTIFY_CLIENT_SECRET']\n",
    "redirect_uri = 'http://localhost:8888/callback'\n",
    "scope = 'user-read-recently-played'\n",
    "\n",
    "token = util.prompt_for_user_token(username=username, \n",
    "                                   scope=scope, \n",
    "                                   client_id=client_id,   \n",
    "                                   client_secret=client_secret,     \n",
    "                                   redirect_uri=redirect_uri)"
   ]
  },
  {
   "cell_type": "code",
   "execution_count": 540,
   "metadata": {},
   "outputs": [
    {
     "data": {
      "text/plain": "{'danceability': 0.575,\n 'energy': 0.81,\n 'key': 6,\n 'loudness': -4.381,\n 'mode': 0,\n 'speechiness': 0.0381,\n 'acousticness': 0.00173,\n 'instrumentalness': 1.12e-06,\n 'liveness': 0.203,\n 'valence': 0.5,\n 'tempo': 159.953,\n 'type': 'audio_features',\n 'id': '6OteeaJa1FSjBA6o1Ixwfq',\n 'uri': 'spotify:track:6OteeaJa1FSjBA6o1Ixwfq',\n 'track_href': 'https://api.spotify.com/v1/tracks/6OteeaJa1FSjBA6o1Ixwfq',\n 'analysis_url': 'https://api.spotify.com/v1/audio-analysis/6OteeaJa1FSjBA6o1Ixwfq',\n 'duration_ms': 235880,\n 'time_signature': 4}"
     },
     "execution_count": 540,
     "metadata": {},
     "output_type": "execute_result"
    }
   ],
   "source": [
    "# Retrive song ID (code borrowed from https://towardsdatascience.com/get-your-spotify-streaming-history-with-python-d5a208bbcbd3)\n",
    "headers = {\n",
    "    'Accept': 'application/json',\n",
    "    'Content-Type': 'application/json',\n",
    "    'Authorization': f'Bearer ' + token,\n",
    "    }\n",
    "\n",
    "params = [('q', 'Science Allie X'),\n",
    "    ('type', 'track')]\n",
    "\n",
    "response = requests.get('https://api.spotify.com/v1/search', \n",
    "                    headers = headers, params = params, timeout = 5)\n",
    "\n",
    "json = response.json()\n",
    "first_result = json['tracks']['items'][0]\n",
    "track_id = first_result['id']\n",
    "\n",
    "# Retrieve song features\n",
    "response = requests.get(f'https://api.spotify.com/v1/audio-features/{track_id}', \n",
    "                    headers = headers, params = params, timeout = 5)\n",
    "response.json()"
   ]
  },
  {
   "cell_type": "code",
   "execution_count": 397,
   "metadata": {},
   "outputs": [
    {
     "data": {
      "text/plain": "{'start': 0.0,\n 'duration': 9.4479,\n 'confidence': 1.0,\n 'loudness': -15.278,\n 'tempo': 159.835,\n 'tempo_confidence': 0.326,\n 'key': 6,\n 'key_confidence': 0.388,\n 'mode': 0,\n 'mode_confidence': 0.613,\n 'time_signature': 4,\n 'time_signature_confidence': 1.0}"
     },
     "execution_count": 397,
     "metadata": {},
     "output_type": "execute_result"
    }
   ],
   "source": [
    "# Retrieve song analysis (1st section only)\n",
    "response = requests.get(f'https://api.spotify.com/v1/audio-analysis/{track_id}', \n",
    "                    headers = headers, params = params, timeout = 5)\n",
    "json = response.json()\n",
    "\n",
    "json['sections'][0]\n"
   ]
  },
  {
   "cell_type": "markdown",
   "metadata": {},
   "source": [
    "## Building a scoring/recommender system\n",
    "\n",
    "### Objective\n",
    "* As a user, I would like to be able to provide my profile ID and the URL of a playlist or album, and have it generate a score for each song reflecting how likely I am to enjoy it.\n",
    "    * Either rank all songs, or provide the top X only\n",
    "* A model would be trained based on my listening history, with each listened song first being assigned a score based on the total listening time or total number of 75%+ plays. This could then maybe be re-worked into either a classification (e.g. top quintile vs bottom quintile vs rest) or regression problem (score out of 10 or 100). \n",
    "\n",
    "### Data collection and cleaning\n",
    "To try to limit the number of API calls required, only songs that were listened to for at least 10 seconds will be included. \n",
    "\n",
    "A few helper functions were first defined to retrieve and process the song features data from the API:"
   ]
  },
  {
   "cell_type": "code",
   "execution_count": 541,
   "metadata": {},
   "outputs": [],
   "source": [
    "def retrieve_track_id(token,track,artist):\n",
    "    # Define header\n",
    "    headers = {\n",
    "    'Accept': 'application/json',\n",
    "    'Content-Type': 'application/json',\n",
    "    'Authorization': f'Bearer ' + token,\n",
    "    }\n",
    "\n",
    "    # Define request\n",
    "    params = [('q', f'{track} {artist}'),\n",
    "    ('type', 'track')]\n",
    "\n",
    "    # Make request\n",
    "    response = requests.get('https://api.spotify.com/v1/search', \n",
    "                    headers = headers, params = params, timeout = 5)\n",
    "\n",
    "    # Process output (first returned result only)\n",
    "    try:\n",
    "        json = response.json()\n",
    "        first_result = json['tracks']['items'][0]\n",
    "        track_id = first_result['id']\n",
    "    except:\n",
    "        track_id = None\n",
    "\n",
    "    return track_id\n",
    "\n",
    "def retrieve_track_features(token,track_id):\n",
    "    #Define header\n",
    "    headers = {\n",
    "    'Accept': 'application/json',\n",
    "    'Content-Type': 'application/json',\n",
    "    'Authorization': f'Bearer ' + token,\n",
    "    }\n",
    "\n",
    "    # Define request\n",
    "    params = [('q', f'{id} '),\n",
    "    ('type', 'track')]\n",
    "\n",
    "    # Make request\n",
    "    response = requests.get(f'https://api.spotify.com/v1/audio-features/{track_id}', \n",
    "                    headers = headers, params = params, timeout = 5)\n",
    "    features = response.json()\n",
    "\n",
    "    return features\n",
    "\n",
    "def retrieve_track_analysis(token,track_id):\n",
    "    #Define header\n",
    "    headers = {\n",
    "    'Accept': 'application/json',\n",
    "    'Content-Type': 'application/json',\n",
    "    'Authorization': f'Bearer ' + token,\n",
    "    }\n",
    "\n",
    "    # Define request\n",
    "    params = [('q', f'{id} '),\n",
    "    ('type', 'track')]\n",
    "\n",
    "    # Make request\n",
    "    response = requests.get(f'https://api.spotify.com/v1/audio-analysis/{track_id}', \n",
    "                    headers = headers, params = params, timeout = 5)\n",
    "    analysis = response.json().get('sections')\n",
    "\n",
    "    return analysis\n"
   ]
  },
  {
   "cell_type": "markdown",
   "metadata": {},
   "source": [
    "The track feature data was then retrieved for all unique tracks. "
   ]
  },
  {
   "cell_type": "code",
   "execution_count": 542,
   "metadata": {},
   "outputs": [],
   "source": [
    "# Limit to track with a minimum of 10 sec of total listening history\n",
    "listeningHistAgg = listeningHist.groupby(['artistName', 'trackName'])['msPlayed'].sum().reset_index(name=\"msPlayed\").reset_index()\n",
    "listeningHistAgg = listeningHistAgg[listeningHistAgg['msPlayed']>=(10*1000)].reset_index(drop=True)\n",
    "listeningHistAgg['secPlayed'] = listeningHistAgg['msPlayed']/1000\n",
    "listeningHistAgg['mnPlayed'] = listeningHistAgg['secPlayed']/60\n",
    "\n",
    "# Get list of unique tracks\n",
    "unique_tracks = listeningHistAgg[['artistName', 'trackName']].drop_duplicates().reset_index(drop=True)\n",
    "\n",
    "# Retrieve data for all tracks\n",
    "track_features_data = []\n",
    "track_analysis_data = []\n",
    "for idx in range(0,len(unique_tracks)):\n",
    "    temp_track_id = retrieve_track_id(token,track=unique_tracks['trackName'][idx],artist=unique_tracks['artistName'][idx])\n",
    "    \n",
    "    if temp_track_id is not None:\n",
    "        temp_track_data = retrieve_track_features(token,track_id=temp_track_id)\n",
    "        temp_track_data['artist_name'] = unique_tracks['artistName'][idx]\n",
    "        temp_track_data['track_name'] = unique_tracks['trackName'][idx]\n",
    "        track_features_data.append(temp_track_data)\n",
    "\n",
    "        temp_track_data = retrieve_track_analysis(token,track_id=temp_track_id)\n",
    "        if temp_track_data is not None:\n",
    "            for element in temp_track_data:\n",
    "                element['artist_name'] = unique_tracks['artistName'][idx]\n",
    "                element['track_name'] = unique_tracks['trackName'][idx]\n",
    "            track_analysis_data.append(temp_track_data)"
   ]
  },
  {
   "cell_type": "code",
   "execution_count": 494,
   "metadata": {},
   "outputs": [],
   "source": [
    "# Save to CSVs for future use\n",
    "track_features_data = pandas.DataFrame(track_features_data)\n",
    "track_features_data.to_csv('/Users/ds-ingrid/GitHub/spotify-scorer/raw_feature_data.csv')\n",
    "\n",
    "track_analysis_data_flat = [item for sublist in track_analysis_data for item in sublist]\n",
    "track_analysis_data_flat = pandas.DataFrame(track_analysis_data_flat).reset_index(drop=True)\n",
    "track_analysis_data_flat.to_csv('/Users/ds-ingrid/GitHub/spotify-scorer/raw_analysis_data.csv')"
   ]
  },
  {
   "cell_type": "markdown",
   "metadata": {},
   "source": [
    "### Feature engineering\n",
    "\n",
    "In addition to the features returned directly by the API endpoint, a few other features were created: \n",
    "* Binary variables indicating whether the artist appears in my top 5, top 20, top 50, and top 100 based on total listening time\n",
    "* Average and range values based on the songs' different sections\n",
    "* The song popularity, provided from the track endpoint as a value from 0 to 100 (not implemented yet)"
   ]
  },
  {
   "cell_type": "code",
   "execution_count": 506,
   "metadata": {},
   "outputs": [],
   "source": [
    "# Read in data\n",
    "track_data = pandas.read_csv('/Users/ds-ingrid/GitHub/spotify-scorer/raw_feature_data.csv')\n",
    "\n",
    "# Create artist ranking\n",
    "artist_ranking = listeningHistAgg.groupby(['artistName'])['mnPlayed'].agg('sum').reset_index()\n",
    "artist_ranking = artist_ranking.sort_values(by='mnPlayed',ascending=False).reset_index(drop=True)\n",
    "artist_ranking['artist_rank'] = artist_ranking.index + 1\n",
    "\n",
    "artist_ranking['is_top5_artist'] = np.where(artist_ranking['artist_rank']<=5,1,0)\n",
    "artist_ranking['is_top20_artist'] = np.where(artist_ranking['artist_rank']<=20,1,0)\n",
    "artist_ranking['is_top50_artist'] = np.where(artist_ranking['artist_rank']<=50,1,0)\n",
    "artist_ranking['is_top100_artist'] = np.where(artist_ranking['artist_rank']<=100,1,0)\n",
    "artist_ranking = artist_ranking[['artistName','is_top5_artist','is_top20_artist','is_top50_artist','is_top100_artist']]\n",
    "\n",
    "# Join back to main dataframe\n",
    "track_data = track_data.merge(artist_ranking,how='inner',left_on='artist_name',right_on='artistName')\n"
   ]
  },
  {
   "cell_type": "code",
   "execution_count": 508,
   "metadata": {},
   "outputs": [],
   "source": [
    "# Section data aggregates\n",
    "## Read in from CSV\n",
    "track_analysis_df = pandas.read_csv('/Users/ds-ingrid/GitHub/spotify-scorer/raw_analysis_data.csv')\n",
    "\n",
    "## Add row number by track name\n",
    "track_analysis_df = track_analysis_df.sort_values(by=['track_name','artist_name','start']).reset_index(drop=True)\n",
    "track_analysis_df['section_id'] = track_analysis_df.groupby(['track_name','artist_name']).cumcount()+1;\n",
    "\n",
    "## Aggregates and summary values\n",
    "track_analysis_df['num_sections'] = track_analysis_df.groupby(['track_name','artist_name'])['section_id'].transform('count')\n",
    "track_analysis_df['avg_section_duration'] = track_analysis_df.groupby(['track_name','artist_name'])['duration'].transform('mean')\n",
    "track_analysis_df['stdev_section_duration'] = track_analysis_df.groupby(['track_name','artist_name'])['duration'].transform('std')\n",
    "\n",
    "track_analysis_df['tempo_range'] =  track_analysis_df.groupby(['track_name','artist_name'])['tempo'].transform('max') - track_analysis_df.groupby(['track_name','artist_name'])['tempo'].transform('min')\n",
    "track_analysis_df['key_range'] =  track_analysis_df.groupby(['track_name','artist_name'])['key'].transform('max') - track_analysis_df.groupby(['track_name','artist_name'])['key'].transform('min')\n",
    "track_analysis_df['loudness_range'] =  track_analysis_df.groupby(['track_name','artist_name'])['loudness'].transform('max') - track_analysis_df.groupby(['track_name','artist_name'])['loudness'].transform('min')\n",
    "\n",
    "track_analysis_df['tempo_stdev'] =  track_analysis_df.groupby(['track_name','artist_name'])['tempo'].transform('std')\n",
    "track_analysis_df['key_stdev'] =  track_analysis_df.groupby(['track_name','artist_name'])['key'].transform('std')\n",
    "track_analysis_df['loudness_stdev'] =  track_analysis_df.groupby(['track_name','artist_name'])['loudness'].transform('std')\n",
    "\n",
    "track_analysis_df['key_max'] = track_analysis_df.groupby(['track_name','artist_name'])['key'].transform('max')\n",
    "track_analysis_df['key_min'] = track_analysis_df.groupby(['track_name','artist_name'])['key'].transform('min')\n",
    "\n",
    "## First section details\n",
    "track_analysis_df['first_section_tempo'] = np.where(track_analysis_df['section_id']==1,track_analysis_df['tempo'],-1000)\n",
    "track_analysis_df['first_section_key'] = np.where(track_analysis_df['section_id']==1,track_analysis_df['key'],-1000)\n",
    "track_analysis_df['first_section_loudness'] = np.where(track_analysis_df['section_id']==1,track_analysis_df['loudness'],-1000)\n",
    "\n",
    "## Second section details\n",
    "track_analysis_df['second_section_tempo'] = np.where(track_analysis_df['section_id']==2,track_analysis_df['tempo'],-1000)\n",
    "track_analysis_df['second_section_key'] = np.where(track_analysis_df['section_id']==2,track_analysis_df['key'],-1000)\n",
    "track_analysis_df['second_section_loudness'] = np.where(track_analysis_df['section_id']==2,track_analysis_df['loudness'],-1000)\n",
    "\n",
    "## Third section details\n",
    "track_analysis_df['third_section_tempo'] = np.where(track_analysis_df['section_id']==3,track_analysis_df['tempo'],-1000)\n",
    "track_analysis_df['third_section_key'] = np.where(track_analysis_df['section_id']==3,track_analysis_df['key'],-1000)\n",
    "track_analysis_df['third_section_loudness'] = np.where(track_analysis_df['section_id']==3,track_analysis_df['loudness'],-1000)\n",
    "\n",
    "## Aggregate first-to-third section details on all rows\n",
    "col_list = ['first_section_tempo','first_section_key','first_section_loudness',\n",
    "            'second_section_tempo','second_section_key','second_section_loudness',\n",
    "            'third_section_tempo','third_section_key','third_section_loudness']\n",
    "\n",
    "for col in col_list:\n",
    "    track_analysis_df[col] = track_analysis_df.groupby(['track_name','artist_name'])[col].transform('max')\n",
    "\n",
    "## Remove unecessary columns\n",
    "track_analysis_df = track_analysis_df[['artist_name',\n",
    "       'track_name', 'num_sections', 'avg_section_duration',\n",
    "       'stdev_section_duration', 'tempo_range', 'key_range', 'loudness_range',\n",
    "       'tempo_stdev', 'key_stdev', 'loudness_stdev', 'key_max', 'key_min',\n",
    "       'first_section_tempo', 'first_section_key', 'first_section_loudness',\n",
    "       'second_section_tempo', 'second_section_key', 'second_section_loudness',\n",
    "       'third_section_tempo', 'third_section_key', 'third_section_loudness']]\n",
    "\n",
    "track_analysis_df = track_analysis_df.drop_duplicates().reset_index(drop=True)\n",
    "\n",
    "# Join back to main dataframe\n",
    "track_data = track_data.merge(track_analysis_df,how='inner',\n",
    "                            left_on=['artist_name','track_name'],\n",
    "                            right_on=['artist_name','track_name'])\n"
   ]
  },
  {
   "cell_type": "markdown",
   "metadata": {},
   "source": [
    "### Dependent variable\n",
    "\n",
    "The dependent variable here will be based on the total amount of time spent listening to each song. Each song is assigned a category from 1 to 5, with 1 being the songs in the first quintile based on listening time (i.e. least listened to), 2 in the 2nd lowest quintile, and so on. "
   ]
  },
  {
   "cell_type": "code",
   "execution_count": 509,
   "metadata": {},
   "outputs": [],
   "source": [
    "# Join features retrieved from API to listening history aggregated data\n",
    "track_data_df = pandas.DataFrame(track_data)\n",
    "track_data_df = listeningHistAgg.merge(track_data_df,how='inner',left_on=['artistName', 'trackName'],right_on=['artist_name', 'track_name']) #TODO: change to left and see how many track have no data\n",
    "\n",
    "# Create depvar based on quintiles\n",
    "track_data_df['depvar'] = pandas.qcut(track_data_df['mnPlayed'], 3, labels=False)+1\n",
    "\n",
    "# QA checks\n",
    "#(listeningHistFeatures['mnPlayed']).quantile([0,0.2,0.4,0.6,0.8])\n",
    "#listeningHistFeatures[listeningHistFeatures['depvar']==5]['track_name']"
   ]
  },
  {
   "cell_type": "markdown",
   "metadata": {},
   "source": [
    "### Pre-processing\n",
    "\n",
    "All numerical variables are scaled and normalized, with any missing values replaced by the mean. For all categorical variables, imputing is done using the most frequent value instead. "
   ]
  },
  {
   "cell_type": "code",
   "execution_count": 537,
   "metadata": {},
   "outputs": [],
   "source": [
    "# Identify numeric vs categorical columns\n",
    "numeric_cols = ['danceability','energy','loudness','speechiness','acousticness','instrumentalness','liveness','valence','tempo','num_sections', 'avg_section_duration','stdev_section_duration', 'tempo_range', 'key_range', 'loudness_range',\n",
    "'tempo_stdev', 'key_stdev', 'loudness_stdev', 'key_max', 'key_min','first_section_tempo', 'first_section_key', 'first_section_loudness',\n",
    "'second_section_tempo', 'second_section_key', 'second_section_loudness','third_section_tempo', 'third_section_key', 'third_section_loudness']\n",
    "categorical_cols = ['key','mode','is_top5_artist','is_top20_artist','is_top50_artist','is_top100_artist']\n",
    "\n",
    "# Define pre-processing pipelines\n",
    "numeric_transformer = Pipeline(\n",
    "    steps=[(\"imputer\",SimpleImputer(strategy=\"median\")),(\"scaler\",StandardScaler())]\n",
    ")\n",
    "\n",
    "categorical_transformer = Pipeline(\n",
    "    steps=[(\"imputer\",SimpleImputer(strategy=\"most_frequent\"))]\n",
    ")\n",
    "\n",
    "# Define final preprocessor\n",
    "preprocessor = ColumnTransformer(\n",
    "    transformers=[\n",
    "        (\"num\", numeric_transformer, numeric_cols),\n",
    "        (\"cat\", categorical_transformer, categorical_cols),\n",
    "        ])\n",
    "\n",
    "# Split training, validation, and testing\n",
    "track_data_df = track_data_df[track_data_df['key'].notnull()].reset_index(drop=True)\n",
    "X = track_data_df[['danceability','energy','loudness','mode','speechiness','acousticness','instrumentalness','liveness','valence','tempo',\n",
    "'key','is_top5_artist','is_top20_artist','is_top50_artist','is_top100_artist','num_sections', 'avg_section_duration','stdev_section_duration', 'tempo_range', 'key_range', 'loudness_range',\n",
    "'tempo_stdev', 'key_stdev', 'loudness_stdev', 'key_max', 'key_min','first_section_tempo', 'first_section_key', 'first_section_loudness',\n",
    "'second_section_tempo', 'second_section_key', 'second_section_loudness','third_section_tempo', 'third_section_key', 'third_section_loudness']]\n",
    "y = track_data_df['depvar']\n",
    "X_train, X_test, y_train, y_test = train_test_split(X,y,test_size=0.2,random_state=0)\n",
    "X_train, X_val, y_train, y_val = train_test_split(X,y,test_size=0.25,random_state=0)\n",
    "\n",
    "# Pre-process training, validation, and test sets\n",
    "scaler = preprocessor.fit(X_train)\n",
    "X_train = scaler.transform(X_train)\n",
    "X_val = scaler.transform(X_val)\n",
    "X_test = scaler.transform(X_test)"
   ]
  },
  {
   "cell_type": "markdown",
   "metadata": {},
   "source": [
    "### Model training (XGboost)"
   ]
  },
  {
   "cell_type": "code",
   "execution_count": 1,
   "metadata": {},
   "outputs": [
    {
     "ename": "ModuleNotFoundError",
     "evalue": "No module named 'xgboost'",
     "output_type": "error",
     "traceback": [
      "\u001b[0;31m---------------------------------------------------------------------------\u001b[0m",
      "\u001b[0;31mModuleNotFoundError\u001b[0m                       Traceback (most recent call last)",
      "\u001b[0;32m<ipython-input-1-49915b1f7c9f>\u001b[0m in \u001b[0;36m<module>\u001b[0;34m\u001b[0m\n\u001b[0;32m----> 1\u001b[0;31m \u001b[0;32mfrom\u001b[0m \u001b[0mxgboost\u001b[0m \u001b[0;32mimport\u001b[0m \u001b[0mXGBClassifier\u001b[0m\u001b[0;34m\u001b[0m\u001b[0;34m\u001b[0m\u001b[0m\n\u001b[0m\u001b[1;32m      2\u001b[0m \u001b[0;32mfrom\u001b[0m \u001b[0msklearn\u001b[0m\u001b[0;34m.\u001b[0m\u001b[0mmetrics\u001b[0m \u001b[0;32mimport\u001b[0m \u001b[0maccuracy_score\u001b[0m\u001b[0;34m\u001b[0m\u001b[0;34m\u001b[0m\u001b[0m\n\u001b[1;32m      3\u001b[0m \u001b[0;34m\u001b[0m\u001b[0m\n\u001b[1;32m      4\u001b[0m \u001b[0;31m# Train model\u001b[0m\u001b[0;34m\u001b[0m\u001b[0;34m\u001b[0m\u001b[0;34m\u001b[0m\u001b[0m\n\u001b[1;32m      5\u001b[0m xgb_model = XGBClassifier(objective=\"multi:softprob\", random_state=0, learning_rate = 0.05,\n",
      "\u001b[0;31mModuleNotFoundError\u001b[0m: No module named 'xgboost'"
     ]
    }
   ],
   "source": [
    "from xgboost import XGBClassifier\n",
    "from sklearn.metrics import accuracy_score\n",
    "\n",
    "# Train model\n",
    "xgb_model = XGBClassifier(objective=\"multi:softprob\", random_state=0, learning_rate = 0.05,\n",
    "                max_depth = 10, alpha = 10, n_estimators = 20)\n",
    "xgb_model.fit(X_train, y_train)\n",
    "\n",
    "# Make predictions on test data\n",
    "y_pred = xgb_model.predict(X_test)\n",
    "accuracy_pred = accuracy_score(y_test,y_pred)\n",
    "print(f\"Model accuracy is: {round(accuracy_pred*100,0)}%\")\n",
    "\n",
    "# evaluate predictions\n",
    "#accuracy = accuracy_score(y_test, predictions)"
   ]
  },
  {
   "cell_type": "code",
   "execution_count": 524,
   "metadata": {},
   "outputs": [
    {
     "name": "stdout",
     "output_type": "stream",
     "text": [
      "Model accuracy is: 42.0%\n"
     ]
    }
   ],
   "source": [
    "from sklearn.neighbors import KNeighborsClassifier\n",
    "\n",
    "\n",
    "knn = KNeighborsClassifier(n_neighbors=1)\n",
    "knn.fit(X_train, y_train)\n",
    "\n",
    "y_pred = knn.predict(X_test)\n",
    "accuracy_pred = accuracy_score(y_test,y_pred)\n",
    "print(f\"Model accuracy is: {round(accuracy_pred*100,0)}%\")"
   ]
  },
  {
   "cell_type": "code",
   "execution_count": 536,
   "metadata": {},
   "outputs": [
    {
     "data": {
      "text/html": "<div>\n<style scoped>\n    .dataframe tbody tr th:only-of-type {\n        vertical-align: middle;\n    }\n\n    .dataframe tbody tr th {\n        vertical-align: top;\n    }\n\n    .dataframe thead th {\n        text-align: right;\n    }\n</style>\n<table border=\"1\" class=\"dataframe\">\n  <thead>\n    <tr style=\"text-align: right;\">\n      <th></th>\n      <th>danceability</th>\n      <th>energy</th>\n      <th>loudness</th>\n      <th>mode</th>\n      <th>speechiness</th>\n      <th>acousticness</th>\n      <th>instrumentalness</th>\n      <th>liveness</th>\n      <th>valence</th>\n      <th>tempo</th>\n      <th>...</th>\n      <th>key_min</th>\n      <th>first_section_tempo</th>\n      <th>first_section_key</th>\n      <th>first_section_loudness</th>\n      <th>second_section_tempo</th>\n      <th>second_section_key</th>\n      <th>second_section_loudness</th>\n      <th>third_section_tempo</th>\n      <th>third_section_key</th>\n      <th>third_section_loudness</th>\n    </tr>\n  </thead>\n  <tbody>\n    <tr>\n      <th>247</th>\n      <td>0.442</td>\n      <td>0.375</td>\n      <td>-9.832</td>\n      <td>0.0</td>\n      <td>0.0632</td>\n      <td>0.4900</td>\n      <td>0.000000</td>\n      <td>0.1060</td>\n      <td>0.0723</td>\n      <td>141.931</td>\n      <td>...</td>\n      <td>0</td>\n      <td>143.980</td>\n      <td>0</td>\n      <td>-34.916</td>\n      <td>139.994</td>\n      <td>4</td>\n      <td>-13.522</td>\n      <td>141.513</td>\n      <td>7</td>\n      <td>-9.294</td>\n    </tr>\n    <tr>\n      <th>7</th>\n      <td>0.837</td>\n      <td>0.636</td>\n      <td>-7.643</td>\n      <td>1.0</td>\n      <td>0.0860</td>\n      <td>0.0395</td>\n      <td>0.001250</td>\n      <td>0.3420</td>\n      <td>0.2740</td>\n      <td>145.972</td>\n      <td>...</td>\n      <td>0</td>\n      <td>145.290</td>\n      <td>5</td>\n      <td>-13.609</td>\n      <td>145.989</td>\n      <td>1</td>\n      <td>-6.711</td>\n      <td>145.848</td>\n      <td>10</td>\n      <td>-7.132</td>\n    </tr>\n    <tr>\n      <th>360</th>\n      <td>0.724</td>\n      <td>0.793</td>\n      <td>-3.982</td>\n      <td>1.0</td>\n      <td>0.0895</td>\n      <td>0.0597</td>\n      <td>0.000000</td>\n      <td>0.2010</td>\n      <td>0.8170</td>\n      <td>98.003</td>\n      <td>...</td>\n      <td>1</td>\n      <td>98.032</td>\n      <td>10</td>\n      <td>-9.994</td>\n      <td>97.813</td>\n      <td>10</td>\n      <td>-3.294</td>\n      <td>98.356</td>\n      <td>10</td>\n      <td>-4.234</td>\n    </tr>\n    <tr>\n      <th>383</th>\n      <td>0.486</td>\n      <td>0.871</td>\n      <td>-4.475</td>\n      <td>0.0</td>\n      <td>0.3370</td>\n      <td>0.0278</td>\n      <td>0.000000</td>\n      <td>0.3130</td>\n      <td>0.6590</td>\n      <td>85.411</td>\n      <td>...</td>\n      <td>0</td>\n      <td>85.707</td>\n      <td>7</td>\n      <td>-7.458</td>\n      <td>83.804</td>\n      <td>5</td>\n      <td>-4.433</td>\n      <td>86.809</td>\n      <td>9</td>\n      <td>-6.163</td>\n    </tr>\n    <tr>\n      <th>22</th>\n      <td>0.641</td>\n      <td>0.877</td>\n      <td>-2.726</td>\n      <td>0.0</td>\n      <td>0.0337</td>\n      <td>0.0140</td>\n      <td>0.000131</td>\n      <td>0.0792</td>\n      <td>0.4540</td>\n      <td>130.045</td>\n      <td>...</td>\n      <td>3</td>\n      <td>129.754</td>\n      <td>3</td>\n      <td>-8.258</td>\n      <td>130.266</td>\n      <td>3</td>\n      <td>-6.986</td>\n      <td>129.939</td>\n      <td>3</td>\n      <td>-2.867</td>\n    </tr>\n    <tr>\n      <th>...</th>\n      <td>...</td>\n      <td>...</td>\n      <td>...</td>\n      <td>...</td>\n      <td>...</td>\n      <td>...</td>\n      <td>...</td>\n      <td>...</td>\n      <td>...</td>\n      <td>...</td>\n      <td>...</td>\n      <td>...</td>\n      <td>...</td>\n      <td>...</td>\n      <td>...</td>\n      <td>...</td>\n      <td>...</td>\n      <td>...</td>\n      <td>...</td>\n      <td>...</td>\n      <td>...</td>\n    </tr>\n    <tr>\n      <th>323</th>\n      <td>0.786</td>\n      <td>0.852</td>\n      <td>-2.687</td>\n      <td>1.0</td>\n      <td>0.0813</td>\n      <td>0.0687</td>\n      <td>0.000000</td>\n      <td>0.0759</td>\n      <td>0.4550</td>\n      <td>125.036</td>\n      <td>...</td>\n      <td>1</td>\n      <td>124.592</td>\n      <td>1</td>\n      <td>-26.689</td>\n      <td>125.071</td>\n      <td>10</td>\n      <td>-3.318</td>\n      <td>125.054</td>\n      <td>8</td>\n      <td>-2.125</td>\n    </tr>\n    <tr>\n      <th>192</th>\n      <td>0.335</td>\n      <td>0.151</td>\n      <td>-17.639</td>\n      <td>1.0</td>\n      <td>0.0465</td>\n      <td>0.8470</td>\n      <td>0.044400</td>\n      <td>0.1950</td>\n      <td>0.1610</td>\n      <td>85.136</td>\n      <td>...</td>\n      <td>0</td>\n      <td>85.678</td>\n      <td>5</td>\n      <td>-13.792</td>\n      <td>89.655</td>\n      <td>5</td>\n      <td>-17.125</td>\n      <td>86.410</td>\n      <td>5</td>\n      <td>-16.930</td>\n    </tr>\n    <tr>\n      <th>117</th>\n      <td>0.523</td>\n      <td>0.564</td>\n      <td>-6.481</td>\n      <td>0.0</td>\n      <td>0.0276</td>\n      <td>0.3880</td>\n      <td>0.001580</td>\n      <td>0.3440</td>\n      <td>0.1350</td>\n      <td>119.965</td>\n      <td>...</td>\n      <td>2</td>\n      <td>118.515</td>\n      <td>2</td>\n      <td>-26.654</td>\n      <td>119.957</td>\n      <td>2</td>\n      <td>-13.978</td>\n      <td>119.920</td>\n      <td>11</td>\n      <td>-10.186</td>\n    </tr>\n    <tr>\n      <th>47</th>\n      <td>0.549</td>\n      <td>0.374</td>\n      <td>-12.049</td>\n      <td>1.0</td>\n      <td>0.0244</td>\n      <td>0.6000</td>\n      <td>0.000000</td>\n      <td>0.1780</td>\n      <td>0.4390</td>\n      <td>104.311</td>\n      <td>...</td>\n      <td>5</td>\n      <td>106.598</td>\n      <td>10</td>\n      <td>-15.704</td>\n      <td>105.071</td>\n      <td>10</td>\n      <td>-15.996</td>\n      <td>104.312</td>\n      <td>5</td>\n      <td>-13.432</td>\n    </tr>\n    <tr>\n      <th>172</th>\n      <td>0.412</td>\n      <td>0.485</td>\n      <td>-6.670</td>\n      <td>1.0</td>\n      <td>0.0357</td>\n      <td>0.7860</td>\n      <td>0.000000</td>\n      <td>0.0973</td>\n      <td>0.2270</td>\n      <td>148.119</td>\n      <td>...</td>\n      <td>2</td>\n      <td>149.656</td>\n      <td>9</td>\n      <td>-16.338</td>\n      <td>148.135</td>\n      <td>9</td>\n      <td>-19.091</td>\n      <td>150.841</td>\n      <td>8</td>\n      <td>-6.885</td>\n    </tr>\n  </tbody>\n</table>\n<p>347 rows × 35 columns</p>\n</div>",
      "text/plain": "     danceability  energy  loudness  mode  speechiness  acousticness  \\\n247         0.442   0.375    -9.832   0.0       0.0632        0.4900   \n7           0.837   0.636    -7.643   1.0       0.0860        0.0395   \n360         0.724   0.793    -3.982   1.0       0.0895        0.0597   \n383         0.486   0.871    -4.475   0.0       0.3370        0.0278   \n22          0.641   0.877    -2.726   0.0       0.0337        0.0140   \n..            ...     ...       ...   ...          ...           ...   \n323         0.786   0.852    -2.687   1.0       0.0813        0.0687   \n192         0.335   0.151   -17.639   1.0       0.0465        0.8470   \n117         0.523   0.564    -6.481   0.0       0.0276        0.3880   \n47          0.549   0.374   -12.049   1.0       0.0244        0.6000   \n172         0.412   0.485    -6.670   1.0       0.0357        0.7860   \n\n     instrumentalness  liveness  valence    tempo  ...  key_min  \\\n247          0.000000    0.1060   0.0723  141.931  ...        0   \n7            0.001250    0.3420   0.2740  145.972  ...        0   \n360          0.000000    0.2010   0.8170   98.003  ...        1   \n383          0.000000    0.3130   0.6590   85.411  ...        0   \n22           0.000131    0.0792   0.4540  130.045  ...        3   \n..                ...       ...      ...      ...  ...      ...   \n323          0.000000    0.0759   0.4550  125.036  ...        1   \n192          0.044400    0.1950   0.1610   85.136  ...        0   \n117          0.001580    0.3440   0.1350  119.965  ...        2   \n47           0.000000    0.1780   0.4390  104.311  ...        5   \n172          0.000000    0.0973   0.2270  148.119  ...        2   \n\n     first_section_tempo  first_section_key  first_section_loudness  \\\n247              143.980                  0                 -34.916   \n7                145.290                  5                 -13.609   \n360               98.032                 10                  -9.994   \n383               85.707                  7                  -7.458   \n22               129.754                  3                  -8.258   \n..                   ...                ...                     ...   \n323              124.592                  1                 -26.689   \n192               85.678                  5                 -13.792   \n117              118.515                  2                 -26.654   \n47               106.598                 10                 -15.704   \n172              149.656                  9                 -16.338   \n\n     second_section_tempo  second_section_key  second_section_loudness  \\\n247               139.994                   4                  -13.522   \n7                 145.989                   1                   -6.711   \n360                97.813                  10                   -3.294   \n383                83.804                   5                   -4.433   \n22                130.266                   3                   -6.986   \n..                    ...                 ...                      ...   \n323               125.071                  10                   -3.318   \n192                89.655                   5                  -17.125   \n117               119.957                   2                  -13.978   \n47                105.071                  10                  -15.996   \n172               148.135                   9                  -19.091   \n\n     third_section_tempo  third_section_key  third_section_loudness  \n247              141.513                  7                  -9.294  \n7                145.848                 10                  -7.132  \n360               98.356                 10                  -4.234  \n383               86.809                  9                  -6.163  \n22               129.939                  3                  -2.867  \n..                   ...                ...                     ...  \n323              125.054                  8                  -2.125  \n192               86.410                  5                 -16.930  \n117              119.920                 11                 -10.186  \n47               104.312                  5                 -13.432  \n172              150.841                  8                  -6.885  \n\n[347 rows x 35 columns]"
     },
     "execution_count": 536,
     "metadata": {},
     "output_type": "execute_result"
    }
   ],
   "source": [
    "X_train"
   ]
  },
  {
   "cell_type": "code",
   "execution_count": 364,
   "metadata": {},
   "outputs": [
    {
     "data": {
      "text/html": "<div>\n<style scoped>\n    .dataframe tbody tr th:only-of-type {\n        vertical-align: middle;\n    }\n\n    .dataframe tbody tr th {\n        vertical-align: top;\n    }\n\n    .dataframe thead th {\n        text-align: right;\n    }\n</style>\n<table border=\"1\" class=\"dataframe\">\n  <thead>\n    <tr style=\"text-align: right;\">\n      <th></th>\n      <th>trackName</th>\n      <th>mnPlayed</th>\n    </tr>\n  </thead>\n  <tbody>\n    <tr>\n      <th>1</th>\n      <td>HWAA</td>\n      <td>0.391617</td>\n    </tr>\n    <tr>\n      <th>4</th>\n      <td>Oh my god - English Version</td>\n      <td>0.430400</td>\n    </tr>\n    <tr>\n      <th>5</th>\n      <td>Uh-Oh</td>\n      <td>1.266117</td>\n    </tr>\n    <tr>\n      <th>12</th>\n      <td>Ugly</td>\n      <td>0.290150</td>\n    </tr>\n    <tr>\n      <th>21</th>\n      <td>I My Me Mine (Japanese Ver.)</td>\n      <td>0.298183</td>\n    </tr>\n    <tr>\n      <th>...</th>\n      <td>...</td>\n      <td>...</td>\n    </tr>\n    <tr>\n      <th>3619</th>\n      <td>La Llorona</td>\n      <td>2.630900</td>\n    </tr>\n    <tr>\n      <th>3620</th>\n      <td>Week-end à Rome</td>\n      <td>2.550017</td>\n    </tr>\n    <tr>\n      <th>3621</th>\n      <td>Dragonfly</td>\n      <td>2.473467</td>\n    </tr>\n    <tr>\n      <th>3622</th>\n      <td>In Depth</td>\n      <td>2.556883</td>\n    </tr>\n    <tr>\n      <th>3625</th>\n      <td>Dear John</td>\n      <td>0.201950</td>\n    </tr>\n  </tbody>\n</table>\n<p>1210 rows × 2 columns</p>\n</div>",
      "text/plain": "                         trackName  mnPlayed\n1                             HWAA  0.391617\n4      Oh my god - English Version  0.430400\n5                            Uh-Oh  1.266117\n12                            Ugly  0.290150\n21    I My Me Mine (Japanese Ver.)  0.298183\n...                            ...       ...\n3619                    La Llorona  2.630900\n3620               Week-end à Rome  2.550017\n3621                     Dragonfly  2.473467\n3622                      In Depth  2.556883\n3625                     Dear John  0.201950\n\n[1210 rows x 2 columns]"
     },
     "execution_count": 364,
     "metadata": {},
     "output_type": "execute_result"
    }
   ],
   "source": [
    "#track_data_df.groupby(['depvar'])['valence'].agg('mean')\n",
    "# Songs in the highest quintile tend to haveL higher energy, lower acounsticness, be louder, and be more danceable\n",
    "\n",
    "track_data_df[track_data_df['depvar']==1][['trackName','mnPlayed']]"
   ]
  }
 ],
 "metadata": {
  "kernelspec": {
   "display_name": "Python 3.8.2 64-bit",
   "name": "python382jvsc74a57bd031f2aee4e71d21fbe5cf8b01ff0e069b9275f58929596ceb00d14d90e3e16cd6"
  },
  "language_info": {
   "codemirror_mode": {
    "name": "ipython",
    "version": 3
   },
   "file_extension": ".py",
   "mimetype": "text/x-python",
   "name": "python",
   "nbconvert_exporter": "python",
   "pygments_lexer": "ipython3",
   "version": "3.8.2"
  },
  "metadata": {
   "interpreter": {
    "hash": "31f2aee4e71d21fbe5cf8b01ff0e069b9275f58929596ceb00d14d90e3e16cd6"
   }
  },
  "orig_nbformat": 2
 },
 "nbformat": 4,
 "nbformat_minor": 2
}